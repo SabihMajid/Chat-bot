{
  "cells": [
    {
      "cell_type": "markdown",
      "metadata": {
        "id": "view-in-github",
        "colab_type": "text"
      },
      "source": [
        "<a href=\"https://colab.research.google.com/github/SabihMajid/Chat-bot/blob/main/ChatBot1.ipynb\" target=\"_parent\"><img src=\"https://colab.research.google.com/assets/colab-badge.svg\" alt=\"Open In Colab\"/></a>"
      ]
    },
    {
      "cell_type": "markdown",
      "metadata": {
        "id": "MeG4xmy7BRUQ"
      },
      "source": [
        "\n",
        "#Chat bot with LangGraph\n",
        "\n",
        "A smart, context-aware chatbot powered by LangChain and LLMs. Simple, scalable, and customizable for various use cases."
      ]
    },
    {
      "cell_type": "code",
      "execution_count": 2,
      "metadata": {
        "colab": {
          "base_uri": "https://localhost:8080/"
        },
        "id": "QoX0lGrLBGkE",
        "outputId": "8729553f-ded1-49ae-c115-762d6c0dfa1f"
      },
      "outputs": [
        {
          "output_type": "stream",
          "name": "stdout",
          "text": [
            "\u001b[?25l   \u001b[90m━━━━━━━━━━━━━━━━━━━━━━━━━━━━━━━━━━━━━━━━\u001b[0m \u001b[32m0.0/134.7 kB\u001b[0m \u001b[31m?\u001b[0m eta \u001b[36m-:--:--\u001b[0m\r\u001b[2K   \u001b[91m━━━━━━━━━━━━━━━━━━━━━━━━━━━━━━━━━━━━━━━\u001b[0m\u001b[91m╸\u001b[0m \u001b[32m133.1/134.7 kB\u001b[0m \u001b[31m4.8 MB/s\u001b[0m eta \u001b[36m0:00:01\u001b[0m\r\u001b[2K   \u001b[90m━━━━━━━━━━━━━━━━━━━━━━━━━━━━━━━━━━━━━━━━\u001b[0m \u001b[32m134.7/134.7 kB\u001b[0m \u001b[31m3.3 MB/s\u001b[0m eta \u001b[36m0:00:00\u001b[0m\n",
            "\u001b[?25h"
          ]
        }
      ],
      "source": [
        "!pip install --q langgraph langsmith"
      ]
    },
    {
      "cell_type": "code",
      "execution_count": 1,
      "metadata": {
        "colab": {
          "base_uri": "https://localhost:8080/"
        },
        "id": "N19iA30DJnB5",
        "outputId": "1c31b690-2461-492b-bb8f-a4120370b9a5"
      },
      "outputs": [
        {
          "output_type": "stream",
          "name": "stdout",
          "text": [
            "\u001b[?25l   \u001b[90m━━━━━━━━━━━━━━━━━━━━━━━━━━━━━━━━━━━━━━━━\u001b[0m \u001b[32m0.0/2.5 MB\u001b[0m \u001b[31m?\u001b[0m eta \u001b[36m-:--:--\u001b[0m\r\u001b[2K   \u001b[91m━━━━━\u001b[0m\u001b[91m╸\u001b[0m\u001b[90m━━━━━━━━━━━━━━━━━━━━━━━━━━━━━━━━━━\u001b[0m \u001b[32m0.4/2.5 MB\u001b[0m \u001b[31m10.9 MB/s\u001b[0m eta \u001b[36m0:00:01\u001b[0m\r\u001b[2K   \u001b[91m━━━━━━━━━━━━━━━━━━━━━━━━━━━━━━━━━━━\u001b[0m\u001b[90m╺\u001b[0m\u001b[90m━━━━\u001b[0m \u001b[32m2.2/2.5 MB\u001b[0m \u001b[31m30.7 MB/s\u001b[0m eta \u001b[36m0:00:01\u001b[0m\r\u001b[2K   \u001b[90m━━━━━━━━━━━━━━━━━━━━━━━━━━━━━━━━━━━━━━━━\u001b[0m \u001b[32m2.5/2.5 MB\u001b[0m \u001b[31m24.7 MB/s\u001b[0m eta \u001b[36m0:00:00\u001b[0m\n",
            "\u001b[?25h\u001b[?25l   \u001b[90m━━━━━━━━━━━━━━━━━━━━━━━━━━━━━━━━━━━━━━━━\u001b[0m \u001b[32m0.0/1.0 MB\u001b[0m \u001b[31m?\u001b[0m eta \u001b[36m-:--:--\u001b[0m\r\u001b[2K   \u001b[90m━━━━━━━━━━━━━━━━━━━━━━━━━━━━━━━━━━━━━━━━\u001b[0m \u001b[32m1.0/1.0 MB\u001b[0m \u001b[31m39.1 MB/s\u001b[0m eta \u001b[36m0:00:00\u001b[0m\n",
            "\u001b[2K   \u001b[90m━━━━━━━━━━━━━━━━━━━━━━━━━━━━━━━━━━━━━━━━\u001b[0m \u001b[32m108.8/108.8 kB\u001b[0m \u001b[31m8.0 MB/s\u001b[0m eta \u001b[36m0:00:00\u001b[0m\n",
            "\u001b[2K   \u001b[90m━━━━━━━━━━━━━━━━━━━━━━━━━━━━━━━━━━━━━━━━\u001b[0m \u001b[32m410.6/410.6 kB\u001b[0m \u001b[31m19.6 MB/s\u001b[0m eta \u001b[36m0:00:00\u001b[0m\n",
            "\u001b[2K   \u001b[90m━━━━━━━━━━━━━━━━━━━━━━━━━━━━━━━━━━━━━━━━\u001b[0m \u001b[32m49.5/49.5 kB\u001b[0m \u001b[31m3.6 MB/s\u001b[0m eta \u001b[36m0:00:00\u001b[0m\n",
            "\u001b[?25h"
          ]
        }
      ],
      "source": [
        "!pip install --q langchain langchain_groq langchain_community"
      ]
    },
    {
      "cell_type": "code",
      "execution_count": 3,
      "metadata": {
        "id": "B8EeIb8CJ91a"
      },
      "outputs": [],
      "source": [
        "\n",
        "from google.colab import userdata\n",
        "groq_api_key = userdata.get('groq_api_key')\n",
        "langsmith=userdata.get('LANGSMITH_API_KEY')\n"
      ]
    },
    {
      "cell_type": "code",
      "execution_count": 4,
      "metadata": {
        "id": "FXEKLbU_LLKt"
      },
      "outputs": [],
      "source": [
        "import os\n",
        "os.environ[\"LANGSMITH_API_KEY\"] = langsmith\n",
        "os.environ[\"LANGCHAIN_TRACING_V2\"] = \"true\"\n",
        "os.environ[\"LANGCHAIN_PROJECT\"] = \"CourseLanggraph\""
      ]
    },
    {
      "cell_type": "code",
      "execution_count": 5,
      "metadata": {
        "id": "sf7nuQPkOvsa"
      },
      "outputs": [],
      "source": [
        "from langchain_groq import ChatGroq"
      ]
    },
    {
      "cell_type": "code",
      "execution_count": 6,
      "metadata": {
        "colab": {
          "base_uri": "https://localhost:8080/"
        },
        "id": "n-I4laupO54s",
        "outputId": "b2f22e4e-1523-488a-928a-e656868d9f1e"
      },
      "outputs": [
        {
          "output_type": "execute_result",
          "data": {
            "text/plain": [
              "ChatGroq(client=<groq.resources.chat.completions.Completions object at 0x7b7def1004f0>, async_client=<groq.resources.chat.completions.AsyncCompletions object at 0x7b7def100af0>, model_name='Gemma2-9b-It', model_kwargs={}, groq_api_key=SecretStr('**********'))"
            ]
          },
          "metadata": {},
          "execution_count": 6
        }
      ],
      "source": [
        "llm = ChatGroq(groq_api_key=groq_api_key, model_name=\"Gemma2-9b-It\")\n",
        "llm"
      ]
    },
    {
      "cell_type": "markdown",
      "metadata": {
        "id": "dYk8y2KYQZxx"
      },
      "source": [
        "#Start Building ChATbot Langgraph"
      ]
    },
    {
      "cell_type": "code",
      "execution_count": 7,
      "metadata": {
        "id": "vJJYyI-mP25y"
      },
      "outputs": [],
      "source": [
        "from typing import Annotated\n",
        "from typing_extensions import TypedDict\n",
        "from langgraph.graph import StateGraph,START,END\n",
        "from langgraph.graph.message import add_messages"
      ]
    },
    {
      "cell_type": "code",
      "execution_count": 8,
      "metadata": {
        "id": "YArl67XOScdR"
      },
      "outputs": [],
      "source": [
        "class State(TypedDict):\n",
        "  # Messages have the type \"list\". The `add_messages` function\n",
        "    # in the annotation defines how this state key should be updated\n",
        "    # (in this case, it appends messages to the list, rather than overwriting them)\n",
        "  messages:Annotated[list,add_messages]\n",
        "\n",
        "graph_builder=StateGraph(State)"
      ]
    },
    {
      "cell_type": "code",
      "execution_count": 10,
      "metadata": {
        "colab": {
          "base_uri": "https://localhost:8080/"
        },
        "id": "Ps9J8BgQT0zN",
        "outputId": "b96960d0-d67a-40d0-ebf3-83e0096acfc4"
      },
      "outputs": [
        {
          "output_type": "execute_result",
          "data": {
            "text/plain": [
              "<langgraph.graph.state.StateGraph at 0x7b7e249f1390>"
            ]
          },
          "metadata": {},
          "execution_count": 10
        }
      ],
      "source": [
        "graph_builder"
      ]
    },
    {
      "cell_type": "code",
      "execution_count": 11,
      "metadata": {
        "id": "BAf2DHW-T7iM"
      },
      "outputs": [],
      "source": [
        "def chatbot (state:State):\n",
        "  return{\n",
        "      \"messages\":llm.invoke(state[\"messages\"])\n",
        "  }"
      ]
    },
    {
      "cell_type": "code",
      "execution_count": 12,
      "metadata": {
        "colab": {
          "base_uri": "https://localhost:8080/"
        },
        "id": "8b_vd7eDUymg",
        "outputId": "824d8097-0bf6-4559-bcf0-3b93915dd1d0"
      },
      "outputs": [
        {
          "output_type": "execute_result",
          "data": {
            "text/plain": [
              "<langgraph.graph.state.StateGraph at 0x7b7e249f1390>"
            ]
          },
          "metadata": {},
          "execution_count": 12
        }
      ],
      "source": [
        "graph_builder.add_node(\"chatbot\",chatbot)"
      ]
    },
    {
      "cell_type": "code",
      "execution_count": null,
      "metadata": {
        "colab": {
          "base_uri": "https://localhost:8080/"
        },
        "id": "Ub7Rs_YVU_nN",
        "outputId": "f9c08523-98da-4d04-e159-7cfa9fb4a5e8"
      },
      "outputs": [
        {
          "data": {
            "text/plain": [
              "<langgraph.graph.state.StateGraph at 0x7b3021abdde0>"
            ]
          },
          "execution_count": 24,
          "metadata": {},
          "output_type": "execute_result"
        }
      ],
      "source": [
        "graph_builder"
      ]
    },
    {
      "cell_type": "code",
      "execution_count": 13,
      "metadata": {
        "colab": {
          "base_uri": "https://localhost:8080/"
        },
        "id": "x8P16olCVf72",
        "outputId": "5ea6bbf5-fc3a-4b36-927e-279705f18dbf"
      },
      "outputs": [
        {
          "output_type": "execute_result",
          "data": {
            "text/plain": [
              "<langgraph.graph.state.StateGraph at 0x7b7e249f1390>"
            ]
          },
          "metadata": {},
          "execution_count": 13
        }
      ],
      "source": [
        "graph_builder.add_edge(START,\"chatbot\")\n",
        "graph_builder.add_edge(\"chatbot\",END)"
      ]
    },
    {
      "cell_type": "code",
      "execution_count": 14,
      "metadata": {
        "id": "sUl_b6OUWE_f"
      },
      "outputs": [],
      "source": [
        "graph = graph_builder.compile()"
      ]
    },
    {
      "cell_type": "code",
      "execution_count": 15,
      "metadata": {
        "colab": {
          "base_uri": "https://localhost:8080/",
          "height": 251
        },
        "id": "GiVo9J_uWPLE",
        "outputId": "c4574697-ce8d-480f-fd5a-b3406137bfbb"
      },
      "outputs": [
        {
          "output_type": "display_data",
          "data": {
            "image/png": "[encoded data removed]",
            "text/plain": [
              "<IPython.core.display.Image object>"
            ]
          },
          "metadata": {}
        }
      ],
      "source": [
        "from IPython.display import Image, display\n",
        "try:\n",
        "  display(Image(graph.get_graph().draw_mermaid_png()))\n",
        "except Exception:\n",
        "  pass"
      ]
    },
    {
      "cell_type": "code",
      "execution_count": null,
      "metadata": {
        "colab": {
          "background_save": true,
          "base_uri": "https://localhost:8080/"
        },
        "id": "2O9BnTxdYeBg",
        "outputId": "f795cc8b-052d-49ca-994c-ccae32e1cf0d"
      },
      "outputs": [
        {
          "output_type": "stream",
          "name": "stdout",
          "text": [
            "User: hey\n",
            "dict_values([{'messages': AIMessage(content='Hey there! 👋  What can I do for you today?\\n', additional_kwargs={}, response_metadata={'token_usage': {'completion_tokens': 16, 'prompt_tokens': 10, 'total_tokens': 26, 'completion_time': 0.029090909, 'prompt_time': 4e-07, 'queue_time': 0.013621677, 'total_time': 0.029091309}, 'model_name': 'Gemma2-9b-It', 'system_fingerprint': 'fp_10c08bf97d', 'finish_reason': 'stop', 'logprobs': None}, id='run-ebbbbeb9-a486-47fd-8e5b-6970e0d3eb4f-0', usage_metadata={'input_tokens': 10, 'output_tokens': 16, 'total_tokens': 26})}])\n",
            "content='Hey there! 👋  What can I do for you today?\\n' additional_kwargs={} response_metadata={'token_usage': {'completion_tokens': 16, 'prompt_tokens': 10, 'total_tokens': 26, 'completion_time': 0.029090909, 'prompt_time': 4e-07, 'queue_time': 0.013621677, 'total_time': 0.029091309}, 'model_name': 'Gemma2-9b-It', 'system_fingerprint': 'fp_10c08bf97d', 'finish_reason': 'stop', 'logprobs': None} id='run-ebbbbeb9-a486-47fd-8e5b-6970e0d3eb4f-0' usage_metadata={'input_tokens': 10, 'output_tokens': 16, 'total_tokens': 26}\n",
            "Assistant: Hey there! 👋  What can I do for you today?\n",
            "\n",
            "User: What is programming?\n",
            "dict_values([{'messages': AIMessage(content=\"Programming is essentially the art and science of giving instructions to a computer.\\n\\nThink of a computer like a very obedient but literal-minded assistant. It can perform tasks incredibly fast and accurately, but it needs clear, step-by-step directions on what to do.\\n\\n**That's where programming comes in.**\\n\\nProgrammers use special languages (called programming languages) to write these instructions. These languages have specific rules and syntax, just like any other language.\\n\\n**Here's a simple analogy:**\\n\\nImagine you want to bake a cake. You wouldn't just throw all the ingredients together and hope for the best, right? You'd follow a recipe, which is essentially a set of instructions.\\n\\nProgramming is similar.\\n\\n**A program is essentially a recipe for the computer.**\\n\\nIt tells the computer exactly what to do, in what order, and with what inputs.\\n\\n**Here are some key things to know about programming:**\\n\\n* **Purpose:** Programs can be used to do a wide variety of things, from simple tasks like calculating the sum of two numbers to complex tasks like running entire websites or controlling robots.\\n* **Languages:** There are many different programming languages, each with its own strengths and weaknesses. Some popular languages include Python, Java, C++, and JavaScript.\\n* **Logic:** Programming requires logical thinking and problem-solving skills. You need to be able to break down a problem into smaller, more manageable steps and then write instructions that the computer can understand.\\n* **Creativity:** While programming involves logic, it can also be quite creative. You can use your programming skills to build amazing things, from games and apps to websites and artificial intelligence.\\n\\n**If you're interested in learning to program, there are many resources available online and in libraries.**\\n\\n\\nLet me know if you have any other questions!\\n\", additional_kwargs={}, response_metadata={'token_usage': {'completion_tokens': 379, 'prompt_tokens': 13, 'total_tokens': 392, 'completion_time': 0.689090909, 'prompt_time': 7.4669e-05, 'queue_time': 0.013453439000000001, 'total_time': 0.689165578}, 'model_name': 'Gemma2-9b-It', 'system_fingerprint': 'fp_10c08bf97d', 'finish_reason': 'stop', 'logprobs': None}, id='run-712f4cb1-b1aa-494a-9abc-0b671fe435b6-0', usage_metadata={'input_tokens': 13, 'output_tokens': 379, 'total_tokens': 392})}])\n",
            "content=\"Programming is essentially the art and science of giving instructions to a computer.\\n\\nThink of a computer like a very obedient but literal-minded assistant. It can perform tasks incredibly fast and accurately, but it needs clear, step-by-step directions on what to do.\\n\\n**That's where programming comes in.**\\n\\nProgrammers use special languages (called programming languages) to write these instructions. These languages have specific rules and syntax, just like any other language.\\n\\n**Here's a simple analogy:**\\n\\nImagine you want to bake a cake. You wouldn't just throw all the ingredients together and hope for the best, right? You'd follow a recipe, which is essentially a set of instructions.\\n\\nProgramming is similar.\\n\\n**A program is essentially a recipe for the computer.**\\n\\nIt tells the computer exactly what to do, in what order, and with what inputs.\\n\\n**Here are some key things to know about programming:**\\n\\n* **Purpose:** Programs can be used to do a wide variety of things, from simple tasks like calculating the sum of two numbers to complex tasks like running entire websites or controlling robots.\\n* **Languages:** There are many different programming languages, each with its own strengths and weaknesses. Some popular languages include Python, Java, C++, and JavaScript.\\n* **Logic:** Programming requires logical thinking and problem-solving skills. You need to be able to break down a problem into smaller, more manageable steps and then write instructions that the computer can understand.\\n* **Creativity:** While programming involves logic, it can also be quite creative. You can use your programming skills to build amazing things, from games and apps to websites and artificial intelligence.\\n\\n**If you're interested in learning to program, there are many resources available online and in libraries.**\\n\\n\\nLet me know if you have any other questions!\\n\" additional_kwargs={} response_metadata={'token_usage': {'completion_tokens': 379, 'prompt_tokens': 13, 'total_tokens': 392, 'completion_time': 0.689090909, 'prompt_time': 7.4669e-05, 'queue_time': 0.013453439000000001, 'total_time': 0.689165578}, 'model_name': 'Gemma2-9b-It', 'system_fingerprint': 'fp_10c08bf97d', 'finish_reason': 'stop', 'logprobs': None} id='run-712f4cb1-b1aa-494a-9abc-0b671fe435b6-0' usage_metadata={'input_tokens': 13, 'output_tokens': 379, 'total_tokens': 392}\n",
            "Assistant: Programming is essentially the art and science of giving instructions to a computer.\n",
            "\n",
            "Think of a computer like a very obedient but literal-minded assistant. It can perform tasks incredibly fast and accurately, but it needs clear, step-by-step directions on what to do.\n",
            "\n",
            "**That's where programming comes in.**\n",
            "\n",
            "Programmers use special languages (called programming languages) to write these instructions. These languages have specific rules and syntax, just like any other language.\n",
            "\n",
            "**Here's a simple analogy:**\n",
            "\n",
            "Imagine you want to bake a cake. You wouldn't just throw all the ingredients together and hope for the best, right? You'd follow a recipe, which is essentially a set of instructions.\n",
            "\n",
            "Programming is similar.\n",
            "\n",
            "**A program is essentially a recipe for the computer.**\n",
            "\n",
            "It tells the computer exactly what to do, in what order, and with what inputs.\n",
            "\n",
            "**Here are some key things to know about programming:**\n",
            "\n",
            "* **Purpose:** Programs can be used to do a wide variety of things, from simple tasks like calculating the sum of two numbers to complex tasks like running entire websites or controlling robots.\n",
            "* **Languages:** There are many different programming languages, each with its own strengths and weaknesses. Some popular languages include Python, Java, C++, and JavaScript.\n",
            "* **Logic:** Programming requires logical thinking and problem-solving skills. You need to be able to break down a problem into smaller, more manageable steps and then write instructions that the computer can understand.\n",
            "* **Creativity:** While programming involves logic, it can also be quite creative. You can use your programming skills to build amazing things, from games and apps to websites and artificial intelligence.\n",
            "\n",
            "**If you're interested in learning to program, there are many resources available online and in libraries.**\n",
            "\n",
            "\n",
            "Let me know if you have any other questions!\n",
            "\n",
            "User: tell me about nvidia?\n",
            "dict_values([{'messages': AIMessage(content=\"## NVIDIA: The Graphics Powerhouse\\n\\nNVIDIA is a global technology company best known for its **graphics processing units (GPUs)**. \\n\\nHere's a breakdown of what they do:\\n\\n**Core Business:**\\n\\n* **Gaming:** NVIDIA is the dominant player in the gaming GPU market, powering millions of PCs and consoles worldwide. Their GeForce GPUs deliver high-performance graphics and immersive gaming experiences.\\n* **Data Centers:**  NVIDIA's GPUs are also essential for data centers, accelerating artificial intelligence (AI) training, high-performance computing (HPC), and cloud gaming. \\n* **Professional Visualization:**  NVIDIA offers GPUs for professionals in fields like design, engineering, and filmmaking, enabling them to work with complex 3D models and simulations.\\n\\n**Key Products and Technologies:**\\n\\n* **GeForce GPUs:**  The flagship line for gaming, offering the highest performance and features.\\n* **Tesla GPUs:**  Designed for data centers and AI workloads, known for their massive parallel processing power.\\n* **Quadro GPUs:**  Specialized for professional visualization tasks, offering high accuracy and reliability.\\n* **CUDA:**  A parallel computing platform and programming model that unlocks the power of GPUs for developers.\\n* **Deep Learning:**  NVIDIA is a leader in deep learning, with specialized hardware and software for training AI models.\\n\\n**Beyond GPUs:**\\n\\n* **Tegra SoCs:**  System-on-a-chip (SoC) solutions for mobile devices, embedded systems, and autonomous vehicles.\\n* **DRIVE Platform:**  A comprehensive platform for self-driving cars, combining GPUs, software, and sensors.\\n\\n**Impact and Influence:**\\n\\nNVIDIA's GPUs have revolutionized the way we experience gaming, computing, and AI. Their technology powers everything from virtual reality headsets to supercomputers, shaping the future of technology.\\n\\n**Current Challenges:**\\n\\n* **Competition:**  AMD and Intel are major competitors in the GPU market, challenging NVIDIA's dominance.\\n* **Supply Chain Constraints:**  Global chip shortages have impacted NVIDIA's production capacity.\\n* **Regulatory Scrutiny:**  NVIDIA's acquisition of Arm faced regulatory hurdles due to antitrust concerns.\\n\\n\\n\\nOverall, NVIDIA is a dominant force in the technology industry, with a strong focus on innovation and pushing the boundaries of what's possible with GPUs.\\n\", additional_kwargs={}, response_metadata={'token_usage': {'completion_tokens': 480, 'prompt_tokens': 14, 'total_tokens': 494, 'completion_time': 0.872727273, 'prompt_time': 8.016e-05, 'queue_time': 0.013436328, 'total_time': 0.872807433}, 'model_name': 'Gemma2-9b-It', 'system_fingerprint': 'fp_10c08bf97d', 'finish_reason': 'stop', 'logprobs': None}, id='run-b1606705-51a5-4bcd-8e37-e060944a58f8-0', usage_metadata={'input_tokens': 14, 'output_tokens': 480, 'total_tokens': 494})}])\n",
            "content=\"## NVIDIA: The Graphics Powerhouse\\n\\nNVIDIA is a global technology company best known for its **graphics processing units (GPUs)**. \\n\\nHere's a breakdown of what they do:\\n\\n**Core Business:**\\n\\n* **Gaming:** NVIDIA is the dominant player in the gaming GPU market, powering millions of PCs and consoles worldwide. Their GeForce GPUs deliver high-performance graphics and immersive gaming experiences.\\n* **Data Centers:**  NVIDIA's GPUs are also essential for data centers, accelerating artificial intelligence (AI) training, high-performance computing (HPC), and cloud gaming. \\n* **Professional Visualization:**  NVIDIA offers GPUs for professionals in fields like design, engineering, and filmmaking, enabling them to work with complex 3D models and simulations.\\n\\n**Key Products and Technologies:**\\n\\n* **GeForce GPUs:**  The flagship line for gaming, offering the highest performance and features.\\n* **Tesla GPUs:**  Designed for data centers and AI workloads, known for their massive parallel processing power.\\n* **Quadro GPUs:**  Specialized for professional visualization tasks, offering high accuracy and reliability.\\n* **CUDA:**  A parallel computing platform and programming model that unlocks the power of GPUs for developers.\\n* **Deep Learning:**  NVIDIA is a leader in deep learning, with specialized hardware and software for training AI models.\\n\\n**Beyond GPUs:**\\n\\n* **Tegra SoCs:**  System-on-a-chip (SoC) solutions for mobile devices, embedded systems, and autonomous vehicles.\\n* **DRIVE Platform:**  A comprehensive platform for self-driving cars, combining GPUs, software, and sensors.\\n\\n**Impact and Influence:**\\n\\nNVIDIA's GPUs have revolutionized the way we experience gaming, computing, and AI. Their technology powers everything from virtual reality headsets to supercomputers, shaping the future of technology.\\n\\n**Current Challenges:**\\n\\n* **Competition:**  AMD and Intel are major competitors in the GPU market, challenging NVIDIA's dominance.\\n* **Supply Chain Constraints:**  Global chip shortages have impacted NVIDIA's production capacity.\\n* **Regulatory Scrutiny:**  NVIDIA's acquisition of Arm faced regulatory hurdles due to antitrust concerns.\\n\\n\\n\\nOverall, NVIDIA is a dominant force in the technology industry, with a strong focus on innovation and pushing the boundaries of what's possible with GPUs.\\n\" additional_kwargs={} response_metadata={'token_usage': {'completion_tokens': 480, 'prompt_tokens': 14, 'total_tokens': 494, 'completion_time': 0.872727273, 'prompt_time': 8.016e-05, 'queue_time': 0.013436328, 'total_time': 0.872807433}, 'model_name': 'Gemma2-9b-It', 'system_fingerprint': 'fp_10c08bf97d', 'finish_reason': 'stop', 'logprobs': None} id='run-b1606705-51a5-4bcd-8e37-e060944a58f8-0' usage_metadata={'input_tokens': 14, 'output_tokens': 480, 'total_tokens': 494}\n",
            "Assistant: ## NVIDIA: The Graphics Powerhouse\n",
            "\n",
            "NVIDIA is a global technology company best known for its **graphics processing units (GPUs)**. \n",
            "\n",
            "Here's a breakdown of what they do:\n",
            "\n",
            "**Core Business:**\n",
            "\n",
            "* **Gaming:** NVIDIA is the dominant player in the gaming GPU market, powering millions of PCs and consoles worldwide. Their GeForce GPUs deliver high-performance graphics and immersive gaming experiences.\n",
            "* **Data Centers:**  NVIDIA's GPUs are also essential for data centers, accelerating artificial intelligence (AI) training, high-performance computing (HPC), and cloud gaming. \n",
            "* **Professional Visualization:**  NVIDIA offers GPUs for professionals in fields like design, engineering, and filmmaking, enabling them to work with complex 3D models and simulations.\n",
            "\n",
            "**Key Products and Technologies:**\n",
            "\n",
            "* **GeForce GPUs:**  The flagship line for gaming, offering the highest performance and features.\n",
            "* **Tesla GPUs:**  Designed for data centers and AI workloads, known for their massive parallel processing power.\n",
            "* **Quadro GPUs:**  Specialized for professional visualization tasks, offering high accuracy and reliability.\n",
            "* **CUDA:**  A parallel computing platform and programming model that unlocks the power of GPUs for developers.\n",
            "* **Deep Learning:**  NVIDIA is a leader in deep learning, with specialized hardware and software for training AI models.\n",
            "\n",
            "**Beyond GPUs:**\n",
            "\n",
            "* **Tegra SoCs:**  System-on-a-chip (SoC) solutions for mobile devices, embedded systems, and autonomous vehicles.\n",
            "* **DRIVE Platform:**  A comprehensive platform for self-driving cars, combining GPUs, software, and sensors.\n",
            "\n",
            "**Impact and Influence:**\n",
            "\n",
            "NVIDIA's GPUs have revolutionized the way we experience gaming, computing, and AI. Their technology powers everything from virtual reality headsets to supercomputers, shaping the future of technology.\n",
            "\n",
            "**Current Challenges:**\n",
            "\n",
            "* **Competition:**  AMD and Intel are major competitors in the GPU market, challenging NVIDIA's dominance.\n",
            "* **Supply Chain Constraints:**  Global chip shortages have impacted NVIDIA's production capacity.\n",
            "* **Regulatory Scrutiny:**  NVIDIA's acquisition of Arm faced regulatory hurdles due to antitrust concerns.\n",
            "\n",
            "\n",
            "\n",
            "Overall, NVIDIA is a dominant force in the technology industry, with a strong focus on innovation and pushing the boundaries of what's possible with GPUs.\n",
            "\n"
          ]
        }
      ],
      "source": [
        "while True:\n",
        "  user_input=input(\"User: \")\n",
        "  if user_input.lower() in [\"quit\",\"q\"]:\n",
        "    print(\"Good Bye\")\n",
        "    break\n",
        "  for event in graph.stream({'messages':(\"user\",user_input)}):\n",
        "    print(event.values())\n",
        "    for value in event.values():\n",
        "      print(value['messages'])\n",
        "      print(\"Assistant:\",value[\"messages\"].content)"
      ]
    },
    {
      "cell_type": "code",
      "execution_count": null,
      "metadata": {
        "id": "jJhKJZCsZYeY"
      },
      "outputs": [],
      "source": []
    }
  ],
  "metadata": {
    "colab": {
      "provenance": [],
      "authorship_tag": "ABX9TyMWj1ZxVte0XoA3i8XSaXV8",
      "include_colab_link": true
    },
    "kernelspec": {
      "display_name": "Python 3",
      "name": "python3"
    },
    "language_info": {
      "name": "python"
    }
  },
  "nbformat": 4,
  "nbformat_minor": 0
}